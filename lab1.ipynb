{
 "cells": [
  {
   "cell_type": "markdown",
   "id": "4df83f47-2d61-4a11-8c47-594e9a24f647",
   "metadata": {},
   "source": [
    "${\\Large Вариант 12}$\n",
    "\n",
    "# 1.1 По выборкам вычислить слудующие точечные оценки: матожидание; дисперсию; среднеквадратичное отклонение; начальные и центральные моменты до 4-го порядка включительно; коэффициенты асимметрии; медиану; эксцесс."
   ]
  },
  {
   "cell_type": "code",
   "execution_count": 1,
   "id": "0911c9e9-64f6-4332-a028-eb1808cba78c",
   "metadata": {},
   "outputs": [
    {
     "name": "stderr",
     "output_type": "stream",
     "text": [
      "Warning message:\n",
      "\"пакет 'readxl' был собран под R версии 4.1.3\"\n"
     ]
    }
   ],
   "source": [
    "library(\"readxl\")\n",
    "options(warn=-1)\n",
    "options(digits=2)"
   ]
  },
  {
   "cell_type": "markdown",
   "id": "5dab7922-e4d6-4cf5-8436-b2ded680b1a1",
   "metadata": {},
   "source": [
    "## Считывание данных из xlsx-файла и приведение к числовому формату"
   ]
  },
  {
   "cell_type": "code",
   "execution_count": 2,
   "id": "b2620703-72ed-42a6-a922-bfb5547ba8ff",
   "metadata": {},
   "outputs": [],
   "source": [
    "DATA <- as.data.frame(read_excel('data.xlsx'))\n",
    "DATA[, 2:7] <- lapply(DATA[,2:7], as.numeric)"
   ]
  },
  {
   "cell_type": "markdown",
   "id": "0b274521-e491-4105-b9aa-5f7f6d745885",
   "metadata": {},
   "source": [
    "## Расчет дисперсии"
   ]
  },
  {
   "cell_type": "code",
   "execution_count": 3,
   "id": "c4022ac3-87ae-4285-a75c-7aca15f06c43",
   "metadata": {},
   "outputs": [
    {
     "data": {
      "text/html": [
       "<style>\n",
       ".dl-inline {width: auto; margin:0; padding: 0}\n",
       ".dl-inline>dt, .dl-inline>dd {float: none; width: auto; display: inline-block}\n",
       ".dl-inline>dt::after {content: \":\\0020\"; padding-right: .5ex}\n",
       ".dl-inline>dt:not(:first-of-type) {padding-left: .5ex}\n",
       "</style><dl class=dl-inline><dt>incidence</dt><dd>136.6812</dd><dt>retail</dt><dd>32251.8671</dd><dt>students</dt><dd>147.4994</dd><dt>pensioners</dt><dd>35.9493</dd><dt>uempl</dt><dd>46.1303</dd><dt>income</dt><dd>5074.8815</dd></dl>\n"
      ],
      "text/latex": [
       "\\begin{description*}\n",
       "\\item[incidence] 136.6812\n",
       "\\item[retail] 32251.8671\n",
       "\\item[students] 147.4994\n",
       "\\item[pensioners] 35.9493\n",
       "\\item[uempl] 46.1303\n",
       "\\item[income] 5074.8815\n",
       "\\end{description*}\n"
      ],
      "text/markdown": [
       "incidence\n",
       ":   136.6812retail\n",
       ":   32251.8671students\n",
       ":   147.4994pensioners\n",
       ":   35.9493uempl\n",
       ":   46.1303income\n",
       ":   5074.8815\n",
       "\n"
      ],
      "text/plain": [
       " incidence     retail   students pensioners      uempl     income \n",
       "       137      32252        147         36         46       5075 "
      ]
     },
     "metadata": {},
     "output_type": "display_data"
    }
   ],
   "source": [
    "DATA <- na.omit(DATA)\n",
    "round(apply(X = DATA[2:7], MARGIN = 2, FUN = sd), 4)"
   ]
  },
  {
   "cell_type": "markdown",
   "id": "d55d3e12-6d72-4b36-bd52-55cb6ec3c2ea",
   "metadata": {},
   "source": [
    "## Расчет среднеквадратичного отклонения"
   ]
  },
  {
   "cell_type": "code",
   "execution_count": 4,
   "id": "ccf5c300-845c-4a7b-b2b5-53ada746a6cb",
   "metadata": {},
   "outputs": [
    {
     "data": {
      "text/html": [
       "<style>\n",
       ".dl-inline {width: auto; margin:0; padding: 0}\n",
       ".dl-inline>dt, .dl-inline>dd {float: none; width: auto; display: inline-block}\n",
       ".dl-inline>dt::after {content: \":\\0020\"; padding-right: .5ex}\n",
       ".dl-inline>dt:not(:first-of-type) {padding-left: .5ex}\n",
       "</style><dl class=dl-inline><dt>incidence</dt><dd>18681.7569</dd><dt>retail</dt><dd>1040182931.2648</dd><dt>students</dt><dd>21756.0635</dd><dt>pensioners</dt><dd>1292.3544</dd><dt>uempl</dt><dd>2128.0085</dd><dt>income</dt><dd>25754421.905</dd></dl>\n"
      ],
      "text/latex": [
       "\\begin{description*}\n",
       "\\item[incidence] 18681.7569\n",
       "\\item[retail] 1040182931.2648\n",
       "\\item[students] 21756.0635\n",
       "\\item[pensioners] 1292.3544\n",
       "\\item[uempl] 2128.0085\n",
       "\\item[income] 25754421.905\n",
       "\\end{description*}\n"
      ],
      "text/markdown": [
       "incidence\n",
       ":   18681.7569retail\n",
       ":   1040182931.2648students\n",
       ":   21756.0635pensioners\n",
       ":   1292.3544uempl\n",
       ":   2128.0085income\n",
       ":   25754421.905\n",
       "\n"
      ],
      "text/plain": [
       " incidence     retail   students pensioners      uempl     income \n",
       "   1.9e+04    1.0e+09    2.2e+04    1.3e+03    2.1e+03    2.6e+07 "
      ]
     },
     "metadata": {},
     "output_type": "display_data"
    }
   ],
   "source": [
    "round(apply(X = DATA[2:7], MARGIN = 2, FUN = var), 4)"
   ]
  },
  {
   "cell_type": "markdown",
   "id": "588a89b9-89b9-4ce8-9dbd-728596e1187f",
   "metadata": {},
   "source": [
    "## Расчет математического ожидания"
   ]
  },
  {
   "cell_type": "code",
   "execution_count": 5,
   "id": "ed5c7719-19b0-41dc-a62d-24a6b86b117c",
   "metadata": {},
   "outputs": [
    {
     "data": {
      "text/html": [
       "<style>\n",
       ".dl-inline {width: auto; margin:0; padding: 0}\n",
       ".dl-inline>dt, .dl-inline>dd {float: none; width: auto; display: inline-block}\n",
       ".dl-inline>dt::after {content: \":\\0020\"; padding-right: .5ex}\n",
       ".dl-inline>dt:not(:first-of-type) {padding-left: .5ex}\n",
       "</style><dl class=dl-inline><dt>incidence</dt><dd>785.1143</dd><dt>retail</dt><dd>92627.4429</dd><dt>students</dt><dd>95.8771</dd><dt>pensioners</dt><dd>285.6743</dd><dt>uempl</dt><dd>72.8143</dd><dt>income</dt><dd>15345.4714</dd></dl>\n"
      ],
      "text/latex": [
       "\\begin{description*}\n",
       "\\item[incidence] 785.1143\n",
       "\\item[retail] 92627.4429\n",
       "\\item[students] 95.8771\n",
       "\\item[pensioners] 285.6743\n",
       "\\item[uempl] 72.8143\n",
       "\\item[income] 15345.4714\n",
       "\\end{description*}\n"
      ],
      "text/markdown": [
       "incidence\n",
       ":   785.1143retail\n",
       ":   92627.4429students\n",
       ":   95.8771pensioners\n",
       ":   285.6743uempl\n",
       ":   72.8143income\n",
       ":   15345.4714\n",
       "\n"
      ],
      "text/plain": [
       " incidence     retail   students pensioners      uempl     income \n",
       "       785      92627         96        286         73      15345 "
      ]
     },
     "metadata": {},
     "output_type": "display_data"
    }
   ],
   "source": [
    "round(apply(X = DATA[2:7], MARGIN = 2, FUN = mean), 4)"
   ]
  },
  {
   "cell_type": "markdown",
   "id": "7a3323ed-5d54-492d-93a7-e8411afc4bcd",
   "metadata": {},
   "source": [
    "## Расчет начальных моментов 1-4 порядков"
   ]
  },
  {
   "cell_type": "code",
   "execution_count": 7,
   "id": "e8e053cd-9293-4b96-920c-33c88b34cd72",
   "metadata": {},
   "outputs": [
    {
     "name": "stderr",
     "output_type": "stream",
     "text": [
      "Устанавливаю пакет в 'C:/Users/sunch/Documents/R/win-library/4.1'\n",
      "(потому что 'lib' не определено)\n",
      "\n"
     ]
    },
    {
     "name": "stdout",
     "output_type": "stream",
     "text": [
      "package 'moments' successfully unpacked and MD5 sums checked\n",
      "\n",
      "The downloaded binary packages are in\n",
      "\tC:\\Users\\sunch\\AppData\\Local\\Temp\\RtmpQTkega\\downloaded_packages\n"
     ]
    },
    {
     "data": {
      "text/html": [
       "<table class=\"dataframe\">\n",
       "<caption>A data.frame: 4 × 7</caption>\n",
       "<thead>\n",
       "\t<tr><th></th><th scope=col>Moments</th><th scope=col>incidence</th><th scope=col>retail</th><th scope=col>students</th><th scope=col>pensioners</th><th scope=col>uempl</th><th scope=col>income</th></tr>\n",
       "\t<tr><th></th><th scope=col>&lt;int&gt;</th><th scope=col>&lt;dbl&gt;</th><th scope=col>&lt;dbl&gt;</th><th scope=col>&lt;dbl&gt;</th><th scope=col>&lt;dbl&gt;</th><th scope=col>&lt;dbl&gt;</th><th scope=col>&lt;dbl&gt;</th></tr>\n",
       "</thead>\n",
       "<tbody>\n",
       "\t<tr><th scope=row>2</th><td>1</td><td>7.9e+02</td><td>9.3e+04</td><td>9.6e+01</td><td>2.9e+02</td><td>7.3e+01</td><td>1.5e+04</td></tr>\n",
       "\t<tr><th scope=row>3</th><td>2</td><td>6.3e+05</td><td>9.6e+09</td><td>3.1e+04</td><td>8.3e+04</td><td>7.4e+03</td><td>2.6e+08</td></tr>\n",
       "\t<tr><th scope=row>4</th><td>3</td><td>5.3e+08</td><td>1.1e+15</td><td>2.5e+07</td><td>2.4e+07</td><td>9.4e+05</td><td>5.2e+12</td></tr>\n",
       "\t<tr><th scope=row>5</th><td>4</td><td>4.5e+11</td><td>1.6e+20</td><td>2.7e+10</td><td>7.3e+09</td><td>1.4e+08</td><td>1.2e+17</td></tr>\n",
       "</tbody>\n",
       "</table>\n"
      ],
      "text/latex": [
       "A data.frame: 4 × 7\n",
       "\\begin{tabular}{r|lllllll}\n",
       "  & Moments & incidence & retail & students & pensioners & uempl & income\\\\\n",
       "  & <int> & <dbl> & <dbl> & <dbl> & <dbl> & <dbl> & <dbl>\\\\\n",
       "\\hline\n",
       "\t2 & 1 & 7.9e+02 & 9.3e+04 & 9.6e+01 & 2.9e+02 & 7.3e+01 & 1.5e+04\\\\\n",
       "\t3 & 2 & 6.3e+05 & 9.6e+09 & 3.1e+04 & 8.3e+04 & 7.4e+03 & 2.6e+08\\\\\n",
       "\t4 & 3 & 5.3e+08 & 1.1e+15 & 2.5e+07 & 2.4e+07 & 9.4e+05 & 5.2e+12\\\\\n",
       "\t5 & 4 & 4.5e+11 & 1.6e+20 & 2.7e+10 & 7.3e+09 & 1.4e+08 & 1.2e+17\\\\\n",
       "\\end{tabular}\n"
      ],
      "text/markdown": [
       "\n",
       "A data.frame: 4 × 7\n",
       "\n",
       "| <!--/--> | Moments &lt;int&gt; | incidence &lt;dbl&gt; | retail &lt;dbl&gt; | students &lt;dbl&gt; | pensioners &lt;dbl&gt; | uempl &lt;dbl&gt; | income &lt;dbl&gt; |\n",
       "|---|---|---|---|---|---|---|---|\n",
       "| 2 | 1 | 7.9e+02 | 9.3e+04 | 9.6e+01 | 2.9e+02 | 7.3e+01 | 1.5e+04 |\n",
       "| 3 | 2 | 6.3e+05 | 9.6e+09 | 3.1e+04 | 8.3e+04 | 7.4e+03 | 2.6e+08 |\n",
       "| 4 | 3 | 5.3e+08 | 1.1e+15 | 2.5e+07 | 2.4e+07 | 9.4e+05 | 5.2e+12 |\n",
       "| 5 | 4 | 4.5e+11 | 1.6e+20 | 2.7e+10 | 7.3e+09 | 1.4e+08 | 1.2e+17 |\n",
       "\n"
      ],
      "text/plain": [
       "  Moments incidence retail  students pensioners uempl   income \n",
       "2 1       7.9e+02   9.3e+04 9.6e+01  2.9e+02    7.3e+01 1.5e+04\n",
       "3 2       6.3e+05   9.6e+09 3.1e+04  8.3e+04    7.4e+03 2.6e+08\n",
       "4 3       5.3e+08   1.1e+15 2.5e+07  2.4e+07    9.4e+05 5.2e+12\n",
       "5 4       4.5e+11   1.6e+20 2.7e+10  7.3e+09    1.4e+08 1.2e+17"
      ]
     },
     "metadata": {},
     "output_type": "display_data"
    }
   ],
   "source": [
    "#install.packages(\"moments\")\n",
    "library(\"moments\")\n",
    "df <- data.frame(Moments = seq(0, 4))\n",
    "for (i in 2:7){\n",
    "        df <- cbind(df, all.moments(DATA[, i], order.max = 4, central = FALSE))\n",
    "}\n",
    "colnames(df) <- c(\"Moments\", colnames(DATA[, 2:7]))\n",
    "df <- df[-1,]\n",
    "df"
   ]
  },
  {
   "cell_type": "markdown",
   "id": "c2f02af3-4a92-448f-a532-df0188324a6b",
   "metadata": {},
   "source": [
    "## Расчет центральных моментов 1-4 порядков"
   ]
  },
  {
   "cell_type": "code",
   "execution_count": 8,
   "id": "ba123fb3-b48f-4ce3-a5f8-1cf6f5a178c5",
   "metadata": {},
   "outputs": [
    {
     "data": {
      "text/html": [
       "<table class=\"dataframe\">\n",
       "<caption>A data.frame: 4 × 7</caption>\n",
       "<thead>\n",
       "\t<tr><th></th><th scope=col>Moments</th><th scope=col>incidence</th><th scope=col>retail</th><th scope=col>students</th><th scope=col>pensioners</th><th scope=col>uempl</th><th scope=col>income</th></tr>\n",
       "\t<tr><th></th><th scope=col>&lt;int&gt;</th><th scope=col>&lt;dbl&gt;</th><th scope=col>&lt;dbl&gt;</th><th scope=col>&lt;dbl&gt;</th><th scope=col>&lt;dbl&gt;</th><th scope=col>&lt;dbl&gt;</th><th scope=col>&lt;dbl&gt;</th></tr>\n",
       "</thead>\n",
       "<tbody>\n",
       "\t<tr><th scope=row>2</th><td>1</td><td>-4.7e-14</td><td>-8.3e-13</td><td>-1.7e-15</td><td> 1.7e-14</td><td>-2.4e-15</td><td>-4.2e-13</td></tr>\n",
       "\t<tr><th scope=row>3</th><td>2</td><td> 1.8e+04</td><td> 1.0e+09</td><td> 2.1e+04</td><td> 1.3e+03</td><td> 2.1e+03</td><td> 2.5e+07</td></tr>\n",
       "\t<tr><th scope=row>4</th><td>3</td><td>-1.0e+06</td><td> 5.4e+13</td><td> 1.8e+07</td><td>-2.9e+04</td><td> 9.7e+04</td><td> 3.8e+11</td></tr>\n",
       "\t<tr><th scope=row>5</th><td>4</td><td> 1.1e+09</td><td> 1.0e+19</td><td> 1.9e+10</td><td> 6.1e+06</td><td> 1.4e+07</td><td> 1.0e+16</td></tr>\n",
       "</tbody>\n",
       "</table>\n"
      ],
      "text/latex": [
       "A data.frame: 4 × 7\n",
       "\\begin{tabular}{r|lllllll}\n",
       "  & Moments & incidence & retail & students & pensioners & uempl & income\\\\\n",
       "  & <int> & <dbl> & <dbl> & <dbl> & <dbl> & <dbl> & <dbl>\\\\\n",
       "\\hline\n",
       "\t2 & 1 & -4.7e-14 & -8.3e-13 & -1.7e-15 &  1.7e-14 & -2.4e-15 & -4.2e-13\\\\\n",
       "\t3 & 2 &  1.8e+04 &  1.0e+09 &  2.1e+04 &  1.3e+03 &  2.1e+03 &  2.5e+07\\\\\n",
       "\t4 & 3 & -1.0e+06 &  5.4e+13 &  1.8e+07 & -2.9e+04 &  9.7e+04 &  3.8e+11\\\\\n",
       "\t5 & 4 &  1.1e+09 &  1.0e+19 &  1.9e+10 &  6.1e+06 &  1.4e+07 &  1.0e+16\\\\\n",
       "\\end{tabular}\n"
      ],
      "text/markdown": [
       "\n",
       "A data.frame: 4 × 7\n",
       "\n",
       "| <!--/--> | Moments &lt;int&gt; | incidence &lt;dbl&gt; | retail &lt;dbl&gt; | students &lt;dbl&gt; | pensioners &lt;dbl&gt; | uempl &lt;dbl&gt; | income &lt;dbl&gt; |\n",
       "|---|---|---|---|---|---|---|---|\n",
       "| 2 | 1 | -4.7e-14 | -8.3e-13 | -1.7e-15 |  1.7e-14 | -2.4e-15 | -4.2e-13 |\n",
       "| 3 | 2 |  1.8e+04 |  1.0e+09 |  2.1e+04 |  1.3e+03 |  2.1e+03 |  2.5e+07 |\n",
       "| 4 | 3 | -1.0e+06 |  5.4e+13 |  1.8e+07 | -2.9e+04 |  9.7e+04 |  3.8e+11 |\n",
       "| 5 | 4 |  1.1e+09 |  1.0e+19 |  1.9e+10 |  6.1e+06 |  1.4e+07 |  1.0e+16 |\n",
       "\n"
      ],
      "text/plain": [
       "  Moments incidence retail   students pensioners uempl    income  \n",
       "2 1       -4.7e-14  -8.3e-13 -1.7e-15  1.7e-14   -2.4e-15 -4.2e-13\n",
       "3 2        1.8e+04   1.0e+09  2.1e+04  1.3e+03    2.1e+03  2.5e+07\n",
       "4 3       -1.0e+06   5.4e+13  1.8e+07 -2.9e+04    9.7e+04  3.8e+11\n",
       "5 4        1.1e+09   1.0e+19  1.9e+10  6.1e+06    1.4e+07  1.0e+16"
      ]
     },
     "metadata": {},
     "output_type": "display_data"
    }
   ],
   "source": [
    "df1 <- data.frame(Moments = seq(0, 4))\n",
    "for (i in 2:7){\n",
    "        df1 <- cbind(df1, all.moments(DATA[, i], order.max = 4, central = TRUE))\n",
    "}\n",
    "colnames(df1) <- c(\"Moments\", colnames(DATA[, 2:7]))\n",
    "df1 <- df1[-1,]\n",
    "df1"
   ]
  },
  {
   "cell_type": "markdown",
   "id": "7cdae03e-23a5-47dc-a8ec-7edf96109456",
   "metadata": {},
   "source": [
    "## Расчет коэффициента асимметрии"
   ]
  },
  {
   "cell_type": "code",
   "execution_count": 9,
   "id": "f872fedc-d7e5-43d1-b602-8da7fcf6d454",
   "metadata": {},
   "outputs": [
    {
     "data": {
      "text/html": [
       "<style>\n",
       ".dl-inline {width: auto; margin:0; padding: 0}\n",
       ".dl-inline>dt, .dl-inline>dd {float: none; width: auto; display: inline-block}\n",
       ".dl-inline>dt::after {content: \":\\0020\"; padding-right: .5ex}\n",
       ".dl-inline>dt:not(:first-of-type) {padding-left: .5ex}\n",
       "</style><dl class=dl-inline><dt>incidence</dt><dd>3.27</dd><dt>retail</dt><dd>9.8452</dd><dt>students</dt><dd>41.4878</dd><dt>pensioners</dt><dd>3.7485</dd><dt>uempl</dt><dd>3.1321</dd><dt>income</dt><dd>15.9898</dd></dl>\n"
      ],
      "text/latex": [
       "\\begin{description*}\n",
       "\\item[incidence] 3.27\n",
       "\\item[retail] 9.8452\n",
       "\\item[students] 41.4878\n",
       "\\item[pensioners] 3.7485\n",
       "\\item[uempl] 3.1321\n",
       "\\item[income] 15.9898\n",
       "\\end{description*}\n"
      ],
      "text/markdown": [
       "incidence\n",
       ":   3.27retail\n",
       ":   9.8452students\n",
       ":   41.4878pensioners\n",
       ":   3.7485uempl\n",
       ":   3.1321income\n",
       ":   15.9898\n",
       "\n"
      ],
      "text/plain": [
       " incidence     retail   students pensioners      uempl     income \n",
       "       3.3        9.8       41.5        3.7        3.1       16.0 "
      ]
     },
     "metadata": {},
     "output_type": "display_data"
    }
   ],
   "source": [
    "round(kurtosis(DATA[,2:7]), 4)"
   ]
  },
  {
   "cell_type": "markdown",
   "id": "abc1a4ac-f334-4589-ac88-5bbb8e9462ee",
   "metadata": {},
   "source": [
    "## Расчет медианы"
   ]
  },
  {
   "cell_type": "code",
   "execution_count": 10,
   "id": "5bdfd286-a73a-40ed-bbed-9dcf3984becb",
   "metadata": {},
   "outputs": [
    {
     "data": {
      "text/html": [
       "<style>\n",
       ".dl-inline {width: auto; margin:0; padding: 0}\n",
       ".dl-inline>dt, .dl-inline>dd {float: none; width: auto; display: inline-block}\n",
       ".dl-inline>dt::after {content: \":\\0020\"; padding-right: .5ex}\n",
       ".dl-inline>dt:not(:first-of-type) {padding-left: .5ex}\n",
       "</style><dl class=dl-inline><dt>incidence</dt><dd>799.55</dd><dt>retail</dt><dd>87812.5</dd><dt>students</dt><dd>53.9</dd><dt>pensioners</dt><dd>288.4</dd><dt>uempl</dt><dd>52.5</dd><dt>income</dt><dd>14312.5</dd></dl>\n"
      ],
      "text/latex": [
       "\\begin{description*}\n",
       "\\item[incidence] 799.55\n",
       "\\item[retail] 87812.5\n",
       "\\item[students] 53.9\n",
       "\\item[pensioners] 288.4\n",
       "\\item[uempl] 52.5\n",
       "\\item[income] 14312.5\n",
       "\\end{description*}\n"
      ],
      "text/markdown": [
       "incidence\n",
       ":   799.55retail\n",
       ":   87812.5students\n",
       ":   53.9pensioners\n",
       ":   288.4uempl\n",
       ":   52.5income\n",
       ":   14312.5\n",
       "\n"
      ],
      "text/plain": [
       " incidence     retail   students pensioners      uempl     income \n",
       "       800      87813         54        288         52      14312 "
      ]
     },
     "metadata": {},
     "output_type": "display_data"
    }
   ],
   "source": [
    "apply(DATA[,2:7], 2, median)"
   ]
  },
  {
   "cell_type": "markdown",
   "id": "65a2a5c4-1dbe-418f-8922-8bf7219db5db",
   "metadata": {},
   "source": [
    "## Расчет коэффициента эксцесса"
   ]
  },
  {
   "cell_type": "code",
   "execution_count": 11,
   "id": "c3d6b3c7-3f6d-4582-a9fd-afab87758fbc",
   "metadata": {},
   "outputs": [
    {
     "data": {
      "text/html": [
       "<style>\n",
       ".dl-inline {width: auto; margin:0; padding: 0}\n",
       ".dl-inline>dt, .dl-inline>dd {float: none; width: auto; display: inline-block}\n",
       ".dl-inline>dt::after {content: \":\\0020\"; padding-right: .5ex}\n",
       ".dl-inline>dt:not(:first-of-type) {padding-left: .5ex}\n",
       "</style><dl class=dl-inline><dt>incidence</dt><dd>-0.404</dd><dt>retail</dt><dd>1.6345</dd><dt>students</dt><dd>5.7647</dd><dt>pensioners</dt><dd>-0.6364</dd><dt>uempl</dt><dd>1.0046</dd><dt>income</dt><dd>2.9535</dd></dl>\n"
      ],
      "text/latex": [
       "\\begin{description*}\n",
       "\\item[incidence] -0.404\n",
       "\\item[retail] 1.6345\n",
       "\\item[students] 5.7647\n",
       "\\item[pensioners] -0.6364\n",
       "\\item[uempl] 1.0046\n",
       "\\item[income] 2.9535\n",
       "\\end{description*}\n"
      ],
      "text/markdown": [
       "incidence\n",
       ":   -0.404retail\n",
       ":   1.6345students\n",
       ":   5.7647pensioners\n",
       ":   -0.6364uempl\n",
       ":   1.0046income\n",
       ":   2.9535\n",
       "\n"
      ],
      "text/plain": [
       " incidence     retail   students pensioners      uempl     income \n",
       "     -0.40       1.63       5.76      -0.64       1.00       2.95 "
      ]
     },
     "metadata": {},
     "output_type": "display_data"
    }
   ],
   "source": [
    "round(skewness(DATA[,2:7]), 4)"
   ]
  },
  {
   "cell_type": "markdown",
   "id": "533e4eb3-f1dc-4453-a641-9bd99a8e8614",
   "metadata": {},
   "source": [
    "# 1.2 Построить для группированной выборки (разбиваем выборку на 10 частей) гистограмму, полигон частот и эмпирическую функцию распределения."
   ]
  },
  {
   "cell_type": "markdown",
   "id": "e75c4bdf-b726-49be-b612-362ca1b4a07a",
   "metadata": {},
   "source": [
    "## Построение диаграммы и полигона относительных частот"
   ]
  },
  {
   "cell_type": "code",
   "execution_count": 12,
   "id": "a6ef46e4-5c82-4adf-9288-def55bd792d0",
   "metadata": {},
   "outputs": [
    {
     "name": "stdout",
     "output_type": "stream",
     "text": [
      "List of 6\n",
      " $ breaks  : num [1:11] 400 468 536 603 671 ...\n",
      " $ counts  : int [1:10] 2 1 5 3 13 14 15 11 2 4\n",
      " $ density : num [1:10] 0.000421 0.000211 0.001053 0.000632 0.002739 ...\n",
      " $ mids    : num [1:10] 434 502 570 637 705 ...\n",
      " $ xname   : chr \"DATA$incidence\"\n",
      " $ equidist: logi TRUE\n",
      " - attr(*, \"class\")= chr \"histogram\"\n"
     ]
    },
    {
     "data": {
      "text/html": [
       "1"
      ],
      "text/latex": [
       "1"
      ],
      "text/markdown": [
       "1"
      ],
      "text/plain": [
       "[1] 1"
      ]
     },
     "metadata": {},
     "output_type": "display_data"
    },
    {
     "data": {
      "image/png": "[encoded data removed]",
      "text/plain": [
       "Plot with title \"Гистограмма относительных частот\n",
       " заболеваемости и полигон частот\""
      ]
     },
     "metadata": {
      "image/png": {
       "height": 420,
       "width": 420
      }
     },
     "output_type": "display_data"
    }
   ],
   "source": [
    "h <- (max(DATA$incidence) - min(DATA$incidence))/10\n",
    "br <- seq(min(DATA$incidence), max(DATA$incidence), h)\n",
    "h1 <- hist(DATA$incidence, breaks = br, \n",
    "           main = \"Гистограмма относительных частот\\n заболеваемости и полигон частот\",\n",
    "           xlab = \"Показатель\",\n",
    "        freq = FALSE)\n",
    "lines(h1$density ~ h1$mids, col = \"red\")\n",
    "str(h1)\n",
    "sum(h1$density * h)"
   ]
  },
  {
   "cell_type": "markdown",
   "id": "3ad7b235-e8d9-4297-b91b-f00cb3ad4c19",
   "metadata": {},
   "source": [
    "## Построение эмпирической функции распределения"
   ]
  },
  {
   "cell_type": "code",
   "execution_count": 13,
   "id": "b1c1f426-8160-4b6a-904b-98b034a5dcf3",
   "metadata": {},
   "outputs": [],
   "source": [
    "counts <- c(h1$counts[1])\n",
    "for (i in 2:10){\n",
    "        counts <- c(counts, counts[i - 1] + h1$counts[i])\n",
    "}"
   ]
  },
  {
   "cell_type": "code",
   "execution_count": 14,
   "id": "fa1b5b97-79ae-4835-ab9a-f7aa2600dba9",
   "metadata": {},
   "outputs": [
    {
     "data": {
      "image/png": "[encoded data removed]",
      "text/plain": [
       "Plot with title \"ECDF\""
      ]
     },
     "metadata": {
      "image/png": {
       "height": 420,
       "width": 420
      }
     },
     "output_type": "display_data"
    }
   ],
   "source": [
    "plot(sort(h1$mids), counts/70, type = 's', xlab = 'Mids', ylab = 'Prob.', main = 'ECDF')"
   ]
  },
  {
   "cell_type": "markdown",
   "id": "d714e1da-b260-4529-b781-abb548aae95d",
   "metadata": {},
   "source": [
    "## 1.3 Построить доверительные интервалы для математического ожидания (доверительная вероятность p=0,95 и p=0,99)\n"
   ]
  },
  {
   "cell_type": "code",
   "execution_count": 15,
   "id": "eff8d4c7-9bba-40c7-8759-d6dea66ac806",
   "metadata": {},
   "outputs": [
    {
     "name": "stderr",
     "output_type": "stream",
     "text": [
      "Устанавливаю пакет в 'C:/Users/sunch/Documents/R/win-library/4.1'\n",
      "(потому что 'lib' не определено)\n",
      "\n"
     ]
    },
    {
     "name": "stdout",
     "output_type": "stream",
     "text": [
      "package 'DescTools' successfully unpacked and MD5 sums checked\n",
      "\n",
      "The downloaded binary packages are in\n",
      "\tC:\\Users\\sunch\\AppData\\Local\\Temp\\RtmpQTkega\\downloaded_packages\n"
     ]
    }
   ],
   "source": [
    "install.packages('DescTools')"
   ]
  },
  {
   "cell_type": "code",
   "execution_count": 16,
   "id": "8b65308f-b13a-4a25-97e5-c225103a29be",
   "metadata": {
    "collapsed": true,
    "jupyter": {
     "outputs_hidden": true
    },
    "tags": []
   },
   "outputs": [
    {
     "data": {
      "text/plain": [
       "               _                           \n",
       "platform       x86_64-w64-mingw32          \n",
       "arch           x86_64                      \n",
       "os             mingw32                     \n",
       "system         x86_64, mingw32             \n",
       "status                                     \n",
       "major          4                           \n",
       "minor          1.2                         \n",
       "year           2021                        \n",
       "month          11                          \n",
       "day            01                          \n",
       "svn rev        81115                       \n",
       "language       R                           \n",
       "version.string R version 4.1.2 (2021-11-01)\n",
       "nickname       Bird Hippie                 "
      ]
     },
     "metadata": {},
     "output_type": "display_data"
    }
   ],
   "source": [
    "R.version"
   ]
  },
  {
   "cell_type": "code",
   "execution_count": 17,
   "id": "54fb6d6e-17e5-4cdc-8aa1-53df22ec6beb",
   "metadata": {},
   "outputs": [],
   "source": [
    "library(DescTools)"
   ]
  },
  {
   "cell_type": "code",
   "execution_count": 23,
   "id": "2d872ab9-47a4-4086-9676-5e2c5bbdddcf",
   "metadata": {
    "tags": []
   },
   "outputs": [
    {
     "data": {
      "text/html": [
       "<style>\n",
       ".dl-inline {width: auto; margin:0; padding: 0}\n",
       ".dl-inline>dt, .dl-inline>dd {float: none; width: auto; display: inline-block}\n",
       ".dl-inline>dt::after {content: \":\\0020\"; padding-right: .5ex}\n",
       ".dl-inline>dt:not(:first-of-type) {padding-left: .5ex}\n",
       "</style><dl class=dl-inline><dt>mean</dt><dd>785.114</dd><dt>lwr.ci</dt><dd>752.524</dd><dt>upr.ci</dt><dd>817.705</dd></dl>\n"
      ],
      "text/latex": [
       "\\begin{description*}\n",
       "\\item[mean] 785.114\n",
       "\\item[lwr.ci] 752.524\n",
       "\\item[upr.ci] 817.705\n",
       "\\end{description*}\n"
      ],
      "text/markdown": [
       "mean\n",
       ":   785.114lwr.ci\n",
       ":   752.524upr.ci\n",
       ":   817.705\n",
       "\n"
      ],
      "text/plain": [
       "  mean lwr.ci upr.ci \n",
       "   785    753    818 "
      ]
     },
     "metadata": {},
     "output_type": "display_data"
    },
    {
     "data": {
      "text/html": [
       "<style>\n",
       ".dl-inline {width: auto; margin:0; padding: 0}\n",
       ".dl-inline>dt, .dl-inline>dd {float: none; width: auto; display: inline-block}\n",
       ".dl-inline>dt::after {content: \":\\0020\"; padding-right: .5ex}\n",
       ".dl-inline>dt:not(:first-of-type) {padding-left: .5ex}\n",
       "</style><dl class=dl-inline><dt>mean</dt><dd>785.114</dd><dt>lwr.ci</dt><dd>741.839</dd><dt>upr.ci</dt><dd>828.389</dd></dl>\n"
      ],
      "text/latex": [
       "\\begin{description*}\n",
       "\\item[mean] 785.114\n",
       "\\item[lwr.ci] 741.839\n",
       "\\item[upr.ci] 828.389\n",
       "\\end{description*}\n"
      ],
      "text/markdown": [
       "mean\n",
       ":   785.114lwr.ci\n",
       ":   741.839upr.ci\n",
       ":   828.389\n",
       "\n"
      ],
      "text/plain": [
       "  mean lwr.ci upr.ci \n",
       "   785    742    828 "
      ]
     },
     "metadata": {},
     "output_type": "display_data"
    }
   ],
   "source": [
    "round(MeanCI(DATA$incidence, conf.level = 0.95), 3)\n",
    "round(MeanCI(DATA$incidence, conf.level = 0.99), 3)"
   ]
  },
  {
   "cell_type": "code",
   "execution_count": 24,
   "id": "a6abe711-e624-46c6-8352-1d56d7f7304b",
   "metadata": {},
   "outputs": [
    {
     "data": {
      "text/html": [
       "<style>\n",
       ".dl-inline {width: auto; margin:0; padding: 0}\n",
       ".dl-inline>dt, .dl-inline>dd {float: none; width: auto; display: inline-block}\n",
       ".dl-inline>dt::after {content: \":\\0020\"; padding-right: .5ex}\n",
       ".dl-inline>dt:not(:first-of-type) {padding-left: .5ex}\n",
       "</style><dl class=dl-inline><dt>mean</dt><dd>92627.443</dd><dt>lwr.ci</dt><dd>84937.257</dd><dt>upr.ci</dt><dd>100317.629</dd></dl>\n"
      ],
      "text/latex": [
       "\\begin{description*}\n",
       "\\item[mean] 92627.443\n",
       "\\item[lwr.ci] 84937.257\n",
       "\\item[upr.ci] 100317.629\n",
       "\\end{description*}\n"
      ],
      "text/markdown": [
       "mean\n",
       ":   92627.443lwr.ci\n",
       ":   84937.257upr.ci\n",
       ":   100317.629\n",
       "\n"
      ],
      "text/plain": [
       "  mean lwr.ci upr.ci \n",
       " 92627  84937 100318 "
      ]
     },
     "metadata": {},
     "output_type": "display_data"
    },
    {
     "data": {
      "text/html": [
       "<style>\n",
       ".dl-inline {width: auto; margin:0; padding: 0}\n",
       ".dl-inline>dt, .dl-inline>dd {float: none; width: auto; display: inline-block}\n",
       ".dl-inline>dt::after {content: \":\\0020\"; padding-right: .5ex}\n",
       ".dl-inline>dt:not(:first-of-type) {padding-left: .5ex}\n",
       "</style><dl class=dl-inline><dt>mean</dt><dd>92627.443</dd><dt>lwr.ci</dt><dd>82416.073</dd><dt>upr.ci</dt><dd>102838.812</dd></dl>\n"
      ],
      "text/latex": [
       "\\begin{description*}\n",
       "\\item[mean] 92627.443\n",
       "\\item[lwr.ci] 82416.073\n",
       "\\item[upr.ci] 102838.812\n",
       "\\end{description*}\n"
      ],
      "text/markdown": [
       "mean\n",
       ":   92627.443lwr.ci\n",
       ":   82416.073upr.ci\n",
       ":   102838.812\n",
       "\n"
      ],
      "text/plain": [
       "  mean lwr.ci upr.ci \n",
       " 92627  82416 102839 "
      ]
     },
     "metadata": {},
     "output_type": "display_data"
    }
   ],
   "source": [
    "round(MeanCI(DATA$retail, conf.level = 0.95), 3)\n",
    "round(MeanCI(DATA$retail, conf.level = 0.99), 3)"
   ]
  },
  {
   "cell_type": "code",
   "execution_count": 25,
   "id": "292d49b5-6d89-4246-9f00-779a8b614f3e",
   "metadata": {},
   "outputs": [
    {
     "data": {
      "text/html": [
       "<style>\n",
       ".dl-inline {width: auto; margin:0; padding: 0}\n",
       ".dl-inline>dt, .dl-inline>dd {float: none; width: auto; display: inline-block}\n",
       ".dl-inline>dt::after {content: \":\\0020\"; padding-right: .5ex}\n",
       ".dl-inline>dt:not(:first-of-type) {padding-left: .5ex}\n",
       "</style><dl class=dl-inline><dt>mean</dt><dd>285.674</dd><dt>lwr.ci</dt><dd>277.102</dd><dt>upr.ci</dt><dd>294.246</dd></dl>\n"
      ],
      "text/latex": [
       "\\begin{description*}\n",
       "\\item[mean] 285.674\n",
       "\\item[lwr.ci] 277.102\n",
       "\\item[upr.ci] 294.246\n",
       "\\end{description*}\n"
      ],
      "text/markdown": [
       "mean\n",
       ":   285.674lwr.ci\n",
       ":   277.102upr.ci\n",
       ":   294.246\n",
       "\n"
      ],
      "text/plain": [
       "  mean lwr.ci upr.ci \n",
       "   286    277    294 "
      ]
     },
     "metadata": {},
     "output_type": "display_data"
    },
    {
     "data": {
      "text/html": [
       "<style>\n",
       ".dl-inline {width: auto; margin:0; padding: 0}\n",
       ".dl-inline>dt, .dl-inline>dd {float: none; width: auto; display: inline-block}\n",
       ".dl-inline>dt::after {content: \":\\0020\"; padding-right: .5ex}\n",
       ".dl-inline>dt:not(:first-of-type) {padding-left: .5ex}\n",
       "</style><dl class=dl-inline><dt>mean</dt><dd>285.674</dd><dt>lwr.ci</dt><dd>274.292</dd><dt>upr.ci</dt><dd>297.056</dd></dl>\n"
      ],
      "text/latex": [
       "\\begin{description*}\n",
       "\\item[mean] 285.674\n",
       "\\item[lwr.ci] 274.292\n",
       "\\item[upr.ci] 297.056\n",
       "\\end{description*}\n"
      ],
      "text/markdown": [
       "mean\n",
       ":   285.674lwr.ci\n",
       ":   274.292upr.ci\n",
       ":   297.056\n",
       "\n"
      ],
      "text/plain": [
       "  mean lwr.ci upr.ci \n",
       "   286    274    297 "
      ]
     },
     "metadata": {},
     "output_type": "display_data"
    }
   ],
   "source": [
    "round(MeanCI(DATA$pensioners, conf.level = 0.95), 3)\n",
    "round(MeanCI(DATA$pensioners, conf.level = 0.99), 3)"
   ]
  },
  {
   "cell_type": "code",
   "execution_count": 26,
   "id": "cacc9c0e-244b-4f24-9750-8d23d1ca7221",
   "metadata": {},
   "outputs": [
    {
     "data": {
      "text/html": [
       "<style>\n",
       ".dl-inline {width: auto; margin:0; padding: 0}\n",
       ".dl-inline>dt, .dl-inline>dd {float: none; width: auto; display: inline-block}\n",
       ".dl-inline>dt::after {content: \":\\0020\"; padding-right: .5ex}\n",
       ".dl-inline>dt:not(:first-of-type) {padding-left: .5ex}\n",
       "</style><dl class=dl-inline><dt>mean</dt><dd>72.814</dd><dt>lwr.ci</dt><dd>61.815</dd><dt>upr.ci</dt><dd>83.814</dd></dl>\n"
      ],
      "text/latex": [
       "\\begin{description*}\n",
       "\\item[mean] 72.814\n",
       "\\item[lwr.ci] 61.815\n",
       "\\item[upr.ci] 83.814\n",
       "\\end{description*}\n"
      ],
      "text/markdown": [
       "mean\n",
       ":   72.814lwr.ci\n",
       ":   61.815upr.ci\n",
       ":   83.814\n",
       "\n"
      ],
      "text/plain": [
       "  mean lwr.ci upr.ci \n",
       "    73     62     84 "
      ]
     },
     "metadata": {},
     "output_type": "display_data"
    },
    {
     "data": {
      "text/html": [
       "<style>\n",
       ".dl-inline {width: auto; margin:0; padding: 0}\n",
       ".dl-inline>dt, .dl-inline>dd {float: none; width: auto; display: inline-block}\n",
       ".dl-inline>dt::after {content: \":\\0020\"; padding-right: .5ex}\n",
       ".dl-inline>dt:not(:first-of-type) {padding-left: .5ex}\n",
       "</style><dl class=dl-inline><dt>mean</dt><dd>72.814</dd><dt>lwr.ci</dt><dd>58.209</dd><dt>upr.ci</dt><dd>87.42</dd></dl>\n"
      ],
      "text/latex": [
       "\\begin{description*}\n",
       "\\item[mean] 72.814\n",
       "\\item[lwr.ci] 58.209\n",
       "\\item[upr.ci] 87.42\n",
       "\\end{description*}\n"
      ],
      "text/markdown": [
       "mean\n",
       ":   72.814lwr.ci\n",
       ":   58.209upr.ci\n",
       ":   87.42\n",
       "\n"
      ],
      "text/plain": [
       "  mean lwr.ci upr.ci \n",
       "    73     58     87 "
      ]
     },
     "metadata": {},
     "output_type": "display_data"
    }
   ],
   "source": [
    "round(MeanCI(DATA$uempl, conf.level = 0.95), 3)\n",
    "round(MeanCI(DATA$uempl, conf.level = 0.99), 3)"
   ]
  },
  {
   "cell_type": "code",
   "execution_count": 27,
   "id": "90e69823-6758-4a7c-8407-b1bfa5c46030",
   "metadata": {},
   "outputs": [
    {
     "data": {
      "text/html": [
       "<style>\n",
       ".dl-inline {width: auto; margin:0; padding: 0}\n",
       ".dl-inline>dt, .dl-inline>dd {float: none; width: auto; display: inline-block}\n",
       ".dl-inline>dt::after {content: \":\\0020\"; padding-right: .5ex}\n",
       ".dl-inline>dt:not(:first-of-type) {padding-left: .5ex}\n",
       "</style><dl class=dl-inline><dt>mean</dt><dd>15345.471</dd><dt>lwr.ci</dt><dd>14135.409</dd><dt>upr.ci</dt><dd>16555.534</dd></dl>\n"
      ],
      "text/latex": [
       "\\begin{description*}\n",
       "\\item[mean] 15345.471\n",
       "\\item[lwr.ci] 14135.409\n",
       "\\item[upr.ci] 16555.534\n",
       "\\end{description*}\n"
      ],
      "text/markdown": [
       "mean\n",
       ":   15345.471lwr.ci\n",
       ":   14135.409upr.ci\n",
       ":   16555.534\n",
       "\n"
      ],
      "text/plain": [
       "  mean lwr.ci upr.ci \n",
       " 15345  14135  16556 "
      ]
     },
     "metadata": {},
     "output_type": "display_data"
    },
    {
     "data": {
      "text/html": [
       "<style>\n",
       ".dl-inline {width: auto; margin:0; padding: 0}\n",
       ".dl-inline>dt, .dl-inline>dd {float: none; width: auto; display: inline-block}\n",
       ".dl-inline>dt::after {content: \":\\0020\"; padding-right: .5ex}\n",
       ".dl-inline>dt:not(:first-of-type) {padding-left: .5ex}\n",
       "</style><dl class=dl-inline><dt>mean</dt><dd>15345.471</dd><dt>lwr.ci</dt><dd>13738.697</dd><dt>upr.ci</dt><dd>16952.246</dd></dl>\n"
      ],
      "text/latex": [
       "\\begin{description*}\n",
       "\\item[mean] 15345.471\n",
       "\\item[lwr.ci] 13738.697\n",
       "\\item[upr.ci] 16952.246\n",
       "\\end{description*}\n"
      ],
      "text/markdown": [
       "mean\n",
       ":   15345.471lwr.ci\n",
       ":   13738.697upr.ci\n",
       ":   16952.246\n",
       "\n"
      ],
      "text/plain": [
       "  mean lwr.ci upr.ci \n",
       " 15345  13739  16952 "
      ]
     },
     "metadata": {},
     "output_type": "display_data"
    }
   ],
   "source": [
    "round(MeanCI(DATA$income, conf.level = 0.95), 3)\n",
    "round(MeanCI(DATA$income, conf.level = 0.99), 3)"
   ]
  }
 ],
 "metadata": {
  "kernelspec": {
   "display_name": "R",
   "language": "R",
   "name": "ir"
  },
  "language_info": {
   "codemirror_mode": "r",
   "file_extension": ".r",
   "mimetype": "text/x-r-source",
   "name": "R",
   "pygments_lexer": "r",
   "version": "4.1.2"
  },
  "widgets": {
   "application/vnd.jupyter.widget-state+json": {
    "state": {},
    "version_major": 2,
    "version_minor": 0
   }
  }
 },
 "nbformat": 4,
 "nbformat_minor": 5
}
